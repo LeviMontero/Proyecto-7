{
 "cells": [
  {
   "cell_type": "code",
   "execution_count": null,
   "metadata": {},
   "outputs": [],
   "source": [
    "import pandas as pd\n",
    "import plotly.express as px\n",
    "\n",
    "# Leer los datos\n",
    "car_data = pd.read_csv('vehicles_us.csv')\n",
    "\n",
    "# Crear un histograma\n",
    "fig = px.histogram(car_data, x=\"odometer\")\n",
    "fig.show()\n",
    "\n",
    "# Crear un gráfico de dispersión\n",
    "fig = px.scatter(car_data, x=\"odometer\", y=\"price\")\n",
    "fig.show()"
   ]
  },
  {
   "cell_type": "code",
   "execution_count": null,
   "metadata": {},
   "outputs": [],
   "source": []
  }
 ],
 "metadata": {
  "language_info": {
   "name": "python"
  }
 },
 "nbformat": 4,
 "nbformat_minor": 2
}
